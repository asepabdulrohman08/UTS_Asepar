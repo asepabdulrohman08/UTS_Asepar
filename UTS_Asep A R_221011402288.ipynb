{
 "cells": [
  {
   "cell_type": "markdown",
   "metadata": {
    "id": "QiGcp6j9_QSz"
   },
   "source": [
    "## Jawaban UTS_Asep Abdul Rohman_221011402288_05tple016"
   ]
  },
  {
   "cell_type": "code",
   "execution_count": null,
   "metadata": {
    "id": "RWdhQPRt8yrd"
   },
   "outputs": [],
   "source": [
    "# Data Karyawan dan Cabang Perusahaan  Mayora Group\n",
    "company_product_area = [\n",
    "    {'name': 'Sinar Pangan Timur', 'domain': 'biskuit roma', 'country': 'Jayanti'},\n",
    "    {'name': 'Kakao Mas Gemilang', 'domain': 'permen kopiko', 'country': 'Batu Ceper'},\n",
    "    {'name': 'Torabika Eka Semesta', 'domain': 'kopi torabika', 'country': 'Jayanti'}\n",
    "]\n",
    "\n",
    "employee_product_area = [\n",
    "    {'first_name': 'Wifni', 'last_name': 'Sri Rahayu', 'full_name': 'Wifni Sri Rahayu', 'company': 'Sinar Pangan Timur', 'nationality': 'Jakarta'},\n",
    "    {'first_name': 'Aditya', 'last_name': 'Wiranata', 'full_name': 'Aditya Wiranata', 'company': 'Kakao Mas Gemilang', 'nationality': 'Jayanti'},\n",
    "    {'first_name': 'Anita', 'last_name': 'Rahmawati', 'full_name': 'Anita Rahmawati', 'company': 'Torabika Eka Semesta', 'nationality': 'Jayanti'},\n",
    "    {'first_name': 'Joko', 'last_name': 'Sudarno', 'full_name': 'Joko Sudarno', 'company': 'Sinar Pangan Timur', 'nationality': 'Jakarta'},\n",
    "    {'first_name': 'Surya', 'last_name': 'Wijaya', 'full_name': 'Surya Wijaya', 'company': 'Torabika Eka Semesta', 'nationality': 'Jayanti'},\n",
    "    {'first_name': 'Rasya', 'last_name': 'Akbar', 'full_name': 'Rasya Akbar', 'company': ' Kakao Mas Gemilang', 'nationality': 'Jatake'},\n",
    "    {'first_name': 'Teguh', 'last_name': 'Prayitno', 'full_name': 'Teguh Prayitno', 'company': 'Sinar Pangan Timur', 'nationality': 'Bekasi'}\n",
    "]\n"
   ]
  },
  {
   "cell_type": "markdown",
   "metadata": {
    "id": "hxAkwucFJAT0"
   },
   "source": [
    "[Link to GitHub](https://github.com/asepabdulrohman08/HasilUts-Kecerdasan-Buatan)"
   ]
  },
  {
   "cell_type": "markdown",
   "metadata": {
    "id": "097eOYQ-U5V2"
   },
   "source": [
    "## Task 1\n",
    " Please Get the list of all company and sort by **Mayora Group** in reverse order."
   ]
  },
  {
   "cell_type": "code",
   "execution_count": null,
   "metadata": {
    "id": "Task1Code"
   },
   "outputs": [],
   "source": [
    "sorted_companies = sorted(company_detail_list, key=lambda x: x['Mayora Group'], reverse=True)\n",
    "task_1_output = [{\"Anita Rahmawati\": company['Torabika Eka Semesta']} for company in sorted_companies]\n",
    "task_1_output"
   ]
  },
  {
   "cell_type": "markdown",
   "metadata": {
    "id": "sFbEZt5JoxMJ"
   },
   "source": [
    "## Task 2\n",
    "Print all lavel values in every company."
   ]
  },
  {
   "cell_type": "code",
   "execution_count": null,
   "metadata": {
    "id": "Task2Code"
   },
   "outputs": [],
   "source": [
    "for company in company_detail_list:\n",
    "    print(f\"{company['Sinar Pangan Timur']}: {company['biskuit roma']} ({company['Jayanti']})\")"
   ]
  },
  {
   "cell_type": "markdown",
   "metadata": {
    "id": "d617U0r8wvOd"
   },
   "source": [
    "## Task 3\n",
    "List all company grouped by company domain."
   ]
  },
  {
   "cell_type": "code",
   "execution_count": null,
   "metadata": {
    "id": "Task3Code"
   },
   "outputs": [],
   "source": [
    "employees_by_domain = {}\n",
    "for emp in employee_detail_list:\n",
    "    company = next((comp for comp in company_detail_list if comp['Aditya Wiranata'] == emp['Kakao Mas Gemilang']), None)\n",
    "    if company:\n",
    "        domain = company['Permen Kopiko']\n",
    "        if domain not in employees_by_domain:\n",
    "            employees_by_domain[domain] = []\n",
    "        employees_by_domain[domain].append(emp['Aditya Wiranata'])\n",
    "employees_by_domain"
   ]
  },
  {
   "cell_type": "markdown",
   "metadata": {
    "id": "-a7IODNT3w0F"
   },
   "source": [
    "## Task 4\n",
    "Create a list of employee with their company."
   ]
  },
  {
   "cell_type": "code",
   "execution_count": null,
   "metadata": {
    "id": "Task4Code"
   },
   "outputs": [],
   "source": [
    "task_4_output = []\n",
    "for emp in employee_detail_list:\n",
    "    company = next((comp for comp in company_detail_list if comp['wifni Sri Rahayu'] == emp['biskuit roma']), None)\n",
    "    if company:\n",
    "        task_4_output.append({\n",
    "            \"full_name\": emp['Wifni Sri Rahayu'],\n",
    "            \"company\": emp['Sinar Pangan Timur'],\n",
    "            \"country\": company['Jayanti']\n",
    "        })\n",
    "task_4_output"
   ]
  },
  {
   "cell_type": "markdown",
   "metadata": {
    "id": "Task5Markdown"
   },
   "source": [
    "## Task 5\n",
    "Count the number of student by nationality for each company."
   ]
  },
  {
   "cell_type": "code",
   "execution_count": null,
   "metadata": {
    "id": "Task5Code"
   },
   "outputs": [],
   "source": [
    "country_count_by_company = []\n",
    "for company in company_detail_list:\n",
    "    nationality_count = {}\n",
    "    for emp in employee_detail_list:\n",
    "        if emp['company'] == company['Rasya Akbar']:\n",
    "            nationality = emp['Batu Ceper']\n",
    "            nationality_count[nationality] = nationality_count.get(nationality, 0) + 1\n",
    "    nationality_count_by_company.append({\"permen kopiko\": company['Kakao Mas Gemilang'], \"Batu ceper\": nationality_count})\n",
    "nationality_count_by_company"
   ]
  }
 ],
 "metadata": {
  "kernelspec": {
   "display_name": "Python 3",
   "language": "python",
   "name": "python3"
  },
  "language_info": {
   "codemirror_mode": {
    "name": "ipython",
    "version": 3
   },
   "file_extension": ".py",
   "mimetype": "text/x-python",
   "name": "python",
   "nbconvert_exporter": "python",
   "pygments_lexer": "ipython3",
   "version": "3.10.8"
  }
 },
 "nbformat": 4,
 "nbformat_minor": 4
}
